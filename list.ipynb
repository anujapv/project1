{
 "cells": [
  {
   "cell_type": "code",
   "execution_count": 1,
   "id": "7c2ec343-63ae-4e22-ac9c-01fb19cc17d4",
   "metadata": {},
   "outputs": [
    {
     "name": "stdout",
     "output_type": "stream",
     "text": [
      "First element: 10\n"
     ]
    }
   ],
   "source": [
    "#PROPERTIES OF A LIST IN PYTHON\n",
    "\n",
    "#1.Ordered\n",
    "\n",
    "my_list=[10,20,30]\n",
    "print(\"First element:\",my_list[0])"
   ]
  },
  {
   "cell_type": "code",
   "execution_count": 2,
   "id": "831e68b8-bfc4-48dc-9abb-6760550cbb6b",
   "metadata": {},
   "outputs": [
    {
     "name": "stdout",
     "output_type": "stream",
     "text": [
      "Modified list: [10, 99, 30]\n"
     ]
    }
   ],
   "source": [
    "#2. Mutable\n",
    "my_list[1]=99\n",
    "print(\"Modified list:\",my_list)"
   ]
  },
  {
   "cell_type": "code",
   "execution_count": 3,
   "id": "59c8f2cd-2cc6-4b85-bb65-5a8ded9a8697",
   "metadata": {},
   "outputs": [
    {
     "name": "stdout",
     "output_type": "stream",
     "text": [
      "Duplicate allowed: [1, 1, 2, 3]\n"
     ]
    }
   ],
   "source": [
    "#. Allow Duplicates\n",
    "dup_list=[1,1,2,3]\n",
    "print(\"Duplicate allowed:\",dup_list)"
   ]
  },
  {
   "cell_type": "code",
   "execution_count": 4,
   "id": "09c3d936-2d42-46eb-8ae2-05e477d13c13",
   "metadata": {},
   "outputs": [
    {
     "name": "stdout",
     "output_type": "stream",
     "text": [
      "mixed types; [1, 'apple', 3.14, True]\n"
     ]
    }
   ],
   "source": [
    "#4. Heterogeneous\n",
    "mix_list=[1,'apple',3.14,True]\n",
    "print('mixed types;',mix_list)"
   ]
  },
  {
   "cell_type": "code",
   "execution_count": 5,
   "id": "7c632113-74a0-42c0-9588-8d16223c0c79",
   "metadata": {},
   "outputs": [
    {
     "name": "stdout",
     "output_type": "stream",
     "text": [
      "After append: [1, 'apple', 3.14, True, 'new item']\n"
     ]
    }
   ],
   "source": [
    "#5. Dynamic sizing\n",
    "mix_list.append(\"new item\")\n",
    "print(\"After append:\",mix_list)"
   ]
  },
  {
   "cell_type": "code",
   "execution_count": 10,
   "id": "2a440536-bdec-4c26-9892-411e426bc182",
   "metadata": {},
   "outputs": [
    {
     "name": "stdout",
     "output_type": "stream",
     "text": [
      "['red', 'yellow', 'orange', 'purple']\n"
     ]
    }
   ],
   "source": [
    "#6. can insert new elements\n",
    "my_list=[\"red\",\"orange\",\"purple\"]\n",
    "my_list.insert(1,\"yellow\")\n",
    "print(my_list)"
   ]
  },
  {
   "cell_type": "code",
   "execution_count": 11,
   "id": "4a79dfb3-f1fd-4412-87bd-68234e6838b2",
   "metadata": {},
   "outputs": [
    {
     "name": "stdout",
     "output_type": "stream",
     "text": [
      "['red', 'yellow', 'orange']\n"
     ]
    }
   ],
   "source": [
    "#can remove elements\n",
    "my_list.remove(\"purple\")\n",
    "print(my_list)"
   ]
  },
  {
   "cell_type": "code",
   "execution_count": 12,
   "id": "2d698af1-02d7-4beb-8b7a-25e278ca400d",
   "metadata": {},
   "outputs": [
    {
     "name": "stdout",
     "output_type": "stream",
     "text": [
      "['red', 'yellow']\n"
     ]
    }
   ],
   "source": [
    "my_list.pop(2)\n",
    "print(my_list)"
   ]
  },
  {
   "cell_type": "code",
   "execution_count": 17,
   "id": "289e35a0-6a20-4927-a4bc-5a80abc8066c",
   "metadata": {},
   "outputs": [
    {
     "name": "stdout",
     "output_type": "stream",
     "text": [
      "['LP', 'Nike', 'Puma', 'USPolo']\n"
     ]
    }
   ],
   "source": [
    "#can sort elements\n",
    "\n",
    "A=[\"Nike\",\"USPolo\",\"LP\",\"Puma\"]\n",
    "A.sort()\n",
    "print(A)"
   ]
  },
  {
   "cell_type": "code",
   "execution_count": 18,
   "id": "bcea084c-b1d3-4fea-b524-329f2b55fd4d",
   "metadata": {},
   "outputs": [
    {
     "name": "stdout",
     "output_type": "stream",
     "text": [
      "['USPolo', 'Puma', 'Nike', 'LP']\n"
     ]
    }
   ],
   "source": [
    "A.reverse()\n",
    "print(A)"
   ]
  },
  {
   "cell_type": "code",
   "execution_count": 19,
   "id": "e0bf04ec-cc7b-4ee6-8d82-3ad5e4225f82",
   "metadata": {},
   "outputs": [
    {
     "name": "stdout",
     "output_type": "stream",
     "text": [
      "['apple', 'banana', 'mango', 'blueberry', 'cherry']\n"
     ]
    }
   ],
   "source": [
    "# we can add lists\n",
    "\n",
    "a=[\"apple\",\"banana\",\"mango\"]\n",
    "b=[\"blueberry\",\"cherry\"]\n",
    "print(a+b)"
   ]
  },
  {
   "cell_type": "code",
   "execution_count": 20,
   "id": "7f03fc07-0f6c-4f9c-b4ef-dcdc927a4dfe",
   "metadata": {},
   "outputs": [
    {
     "name": "stdout",
     "output_type": "stream",
     "text": [
      "['apple', 'banana', 'mango', 'apple', 'banana', 'mango', 'apple', 'banana', 'mango']\n"
     ]
    }
   ],
   "source": [
    "# we can use *\n",
    "\n",
    "print(a*3)"
   ]
  },
  {
   "cell_type": "code",
   "execution_count": null,
   "id": "2b9a6c56-8728-4ce6-afcd-d7fb52f8dea9",
   "metadata": {},
   "outputs": [],
   "source": []
  }
 ],
 "metadata": {
  "kernelspec": {
   "display_name": "Python [conda env:base] *",
   "language": "python",
   "name": "conda-base-py"
  },
  "language_info": {
   "codemirror_mode": {
    "name": "ipython",
    "version": 3
   },
   "file_extension": ".py",
   "mimetype": "text/x-python",
   "name": "python",
   "nbconvert_exporter": "python",
   "pygments_lexer": "ipython3",
   "version": "3.13.5"
  }
 },
 "nbformat": 4,
 "nbformat_minor": 5
}
